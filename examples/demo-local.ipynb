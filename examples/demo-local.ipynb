{
 "cells": [
  {
   "cell_type": "code",
   "execution_count": null,
   "metadata": {},
   "outputs": [],
   "source": [
    "import requests\n",
    "import json"
   ]
  },
  {
   "cell_type": "markdown",
   "metadata": {},
   "source": [
    "# Local"
   ]
  },
  {
   "cell_type": "code",
   "execution_count": null,
   "metadata": {},
   "outputs": [],
   "source": [
    "text = \"The quick brown fox jumps over the lazy dog.\"\n",
    "response = requests.post(\n",
    "    \"http://localhost:22000/process\", json={\"type\": \"text\", \"content\": text}\n",
    ")\n",
    "print(json.dumps(response.json(), indent=2))"
   ]
  },
  {
   "cell_type": "code",
   "execution_count": null,
   "metadata": {},
   "outputs": [],
   "source": [
    "text = \"La volpe veloce salta sopra il cane pigro.\"\n",
    "response = requests.post(\n",
    "    \"http://localhost:22000/process\", json={\"type\": \"text\", \"content\": text}\n",
    ")\n",
    "print(json.dumps(response.json(), indent=2))"
   ]
  }
 ],
 "metadata": {
  "interpreter": {
   "hash": "0e0e147274eb5bc75e013705ee3f9f48513bf445abab26a76a07a5012885c84a"
  },
  "kernelspec": {
   "display_name": "Python 3.9.7 64-bit ('usea-service': conda)",
   "language": "python",
   "name": "python3"
  },
  "language_info": {
   "codemirror_mode": {
    "name": "ipython",
    "version": 3
   },
   "file_extension": ".py",
   "mimetype": "text/x-python",
   "name": "python",
   "nbconvert_exporter": "python",
   "pygments_lexer": "ipython3",
   "version": "3.9.12"
  },
  "orig_nbformat": 4
 },
 "nbformat": 4,
 "nbformat_minor": 2
}
