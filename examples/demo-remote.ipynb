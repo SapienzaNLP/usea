{
 "cells": [
  {
   "cell_type": "code",
   "execution_count": null,
   "metadata": {},
   "outputs": [],
   "source": [
    "import requests\n",
    "import json"
   ]
  },
  {
   "cell_type": "markdown",
   "metadata": {},
   "source": [
    "# Remote"
   ]
  },
  {
   "cell_type": "code",
   "execution_count": null,
   "metadata": {},
   "outputs": [],
   "source": [
    "text = \"The quick brown fox jumps over the lazy dog.\"\n",
    "response = requests.post(\n",
    "    \"https://nlp.uniroma1.it/usea/api\", json={\"type\": \"text\", \"content\": text}\n",
    ")\n",
    "print(json.dumps(response.json(), indent=2))"
   ]
  },
  {
   "cell_type": "code",
   "execution_count": null,
   "metadata": {},
   "outputs": [],
   "source": [
    "text = \"La volpe veloce salta sopra il cane pigro.\"\n",
    "response = requests.post(\n",
    "    \"https://nlp.uniroma1.it/usea/api\", json={\"type\": \"text\", \"content\": text}\n",
    ")\n",
    "print(json.dumps(response.json(), indent=2))"
   ]
  },
  {
   "cell_type": "markdown",
   "metadata": {},
   "source": [
    "# Python"
   ]
  },
  {
   "cell_type": "code",
   "execution_count": null,
   "metadata": {},
   "outputs": [],
   "source": [
    "from elg import Service\n",
    "\n",
    "text = \"The quick brown fox jumps over the lazy dog.\"\n",
    "# 18323 is the id of the service in the ELG catalog\n",
    "service = Service.from_id(18323)\n",
    "result = service(request_input=text, request_type=\"text\")"
   ]
  }
 ],
 "metadata": {
  "interpreter": {
   "hash": "530e46c002b061ea1739ed53553d443bc2e3de6164c71b40c954e5b27f3497ab"
  },
  "kernelspec": {
   "display_name": "Python 3.9.7 ('usea-core')",
   "language": "python",
   "name": "python3"
  },
  "language_info": {
   "codemirror_mode": {
    "name": "ipython",
    "version": 3
   },
   "file_extension": ".py",
   "mimetype": "text/x-python",
   "name": "python",
   "nbconvert_exporter": "python",
   "pygments_lexer": "ipython3",
   "version": "3.9.7"
  },
  "orig_nbformat": 4
 },
 "nbformat": 4,
 "nbformat_minor": 2
}
